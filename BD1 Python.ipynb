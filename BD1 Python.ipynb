{
 "cells": [
  {
   "cell_type": "markdown",
   "id": "3d06e839",
   "metadata": {},
   "source": [
    "## Big data. Inżynieria danych"
   ]
  },
  {
   "cell_type": "markdown",
   "id": "69654c00",
   "metadata": {},
   "source": [
    "# Programowanie w języku Python - wprowadzenie"
   ]
  },
  {
   "cell_type": "markdown",
   "id": "a079541e",
   "metadata": {},
   "source": [
    "dr inż. Mateusz Gorczyca"
   ]
  },
  {
   "cell_type": "markdown",
   "id": "b7a042cc",
   "metadata": {},
   "source": [
    " "
   ]
  },
  {
   "cell_type": "markdown",
   "id": "c2c938d6",
   "metadata": {},
   "source": [
    " "
   ]
  },
  {
   "cell_type": "markdown",
   "id": "50e53e21",
   "metadata": {},
   "source": [
    "- Tutaj na temat jupytera i markdowna??\n",
    "- Łatwiejsze przykłady for i while dodać\n",
    "- Zmienić przykład z listą"
   ]
  },
  {
   "cell_type": "markdown",
   "id": "61318dbd",
   "metadata": {},
   "source": [
    "## Wyrażenia"
   ]
  },
  {
   "cell_type": "markdown",
   "id": "59f39525",
   "metadata": {},
   "source": [
    "### Arytmetyka"
   ]
  },
  {
   "cell_type": "markdown",
   "id": "15397bcc",
   "metadata": {},
   "source": [
    "Dodawanie, odejmowanie, mnożenie:"
   ]
  },
  {
   "cell_type": "code",
   "execution_count": 1,
   "id": "bee6a5a6",
   "metadata": {},
   "outputs": [
    {
     "data": {
      "text/plain": [
       "7"
      ]
     },
     "execution_count": 1,
     "metadata": {},
     "output_type": "execute_result"
    }
   ],
   "source": [
    "2 + 5"
   ]
  },
  {
   "cell_type": "code",
   "execution_count": null,
   "id": "ea894f6f-3232-4c11-bdb2-40a11cee4ab3",
   "metadata": {},
   "outputs": [],
   "source": [
    "\"dodałem sobie zmianę jakąś\""
   ]
  },
  {
   "cell_type": "code",
   "execution_count": 2,
   "id": "2c80fac6",
   "metadata": {},
   "outputs": [
    {
     "data": {
      "text/plain": [
       "-3"
      ]
     },
     "execution_count": 2,
     "metadata": {},
     "output_type": "execute_result"
    }
   ],
   "source": [
    "2 - 5"
   ]
  },
  {
   "cell_type": "code",
   "execution_count": 3,
   "id": "ff8426ab",
   "metadata": {},
   "outputs": [
    {
     "data": {
      "text/plain": [
       "10"
      ]
     },
     "execution_count": 3,
     "metadata": {},
     "output_type": "execute_result"
    }
   ],
   "source": [
    "2 * 5"
   ]
  },
  {
   "cell_type": "markdown",
   "id": "f3109bc1",
   "metadata": {},
   "source": [
    "Dzielenie zmiennoprzecinkowe:"
   ]
  },
  {
   "cell_type": "code",
   "execution_count": 4,
   "id": "05e004d9",
   "metadata": {},
   "outputs": [
    {
     "data": {
      "text/plain": [
       "0.4"
      ]
     },
     "execution_count": 4,
     "metadata": {},
     "output_type": "execute_result"
    }
   ],
   "source": [
    "2 / 5"
   ]
  },
  {
   "cell_type": "markdown",
   "id": "bd441945",
   "metadata": {},
   "source": [
    "Dzielenie stałoprzecinkowe:"
   ]
  },
  {
   "cell_type": "code",
   "execution_count": 5,
   "id": "4a3a2ad5",
   "metadata": {},
   "outputs": [
    {
     "data": {
      "text/plain": [
       "0"
      ]
     },
     "execution_count": 5,
     "metadata": {},
     "output_type": "execute_result"
    }
   ],
   "source": [
    "2 // 5"
   ]
  },
  {
   "cell_type": "code",
   "execution_count": 6,
   "id": "55590e01",
   "metadata": {},
   "outputs": [
    {
     "data": {
      "text/plain": [
       "1"
      ]
     },
     "execution_count": 6,
     "metadata": {},
     "output_type": "execute_result"
    }
   ],
   "source": [
    "7 // 5"
   ]
  },
  {
   "cell_type": "code",
   "execution_count": 7,
   "id": "ece4f047",
   "metadata": {},
   "outputs": [
    {
     "data": {
      "text/plain": [
       "-1"
      ]
     },
     "execution_count": 7,
     "metadata": {},
     "output_type": "execute_result"
    }
   ],
   "source": [
    "2 // -5"
   ]
  },
  {
   "cell_type": "code",
   "execution_count": 9,
   "id": "f62993ac-55b4-4b63-95b2-ac8ddb7ee796",
   "metadata": {},
   "outputs": [
    {
     "data": {
      "text/plain": [
       "-0.4"
      ]
     },
     "execution_count": 9,
     "metadata": {},
     "output_type": "execute_result"
    }
   ],
   "source": [
    "2/-5\n"
   ]
  },
  {
   "cell_type": "code",
   "execution_count": null,
   "id": "1dbf2b4b",
   "metadata": {},
   "outputs": [],
   "source": [
    "-2 // 5"
   ]
  },
  {
   "cell_type": "code",
   "execution_count": null,
   "id": "afea3ed6",
   "metadata": {},
   "outputs": [],
   "source": [
    "-2 // -5"
   ]
  },
  {
   "cell_type": "markdown",
   "id": "a91b6f5d",
   "metadata": {},
   "source": [
    "Potęgowanie:"
   ]
  },
  {
   "cell_type": "code",
   "execution_count": null,
   "id": "646986a8",
   "metadata": {},
   "outputs": [],
   "source": [
    "2 ** 5"
   ]
  },
  {
   "cell_type": "markdown",
   "id": "7fba7c09",
   "metadata": {},
   "source": [
    "**Zadanie 1**. Wyjaśnij wyniki powyższych działań dzielenia stałoprzecinkowego."
   ]
  },
  {
   "cell_type": "markdown",
   "id": "e6d59a91",
   "metadata": {},
   "source": [
    "**Odp**:"
   ]
  },
  {
   "cell_type": "markdown",
   "id": "2b27bc73",
   "metadata": {},
   "source": [
    "### Wyrażenia logiczne"
   ]
  },
  {
   "cell_type": "markdown",
   "id": "4f865dd5",
   "metadata": {},
   "source": [
    "Operatory logiczne: ==, <, <=, >, >=, !="
   ]
  },
  {
   "cell_type": "code",
   "execution_count": null,
   "id": "1f1ab523",
   "metadata": {},
   "outputs": [],
   "source": [
    "2 < 5"
   ]
  },
  {
   "cell_type": "code",
   "execution_count": null,
   "id": "ac4e5053",
   "metadata": {},
   "outputs": [],
   "source": [
    "5 <= 5"
   ]
  },
  {
   "cell_type": "code",
   "execution_count": null,
   "id": "92232a96",
   "metadata": {},
   "outputs": [],
   "source": [
    "2 != 5"
   ]
  },
  {
   "cell_type": "code",
   "execution_count": null,
   "id": "e2357831",
   "metadata": {},
   "outputs": [],
   "source": [
    "2 == 5"
   ]
  },
  {
   "cell_type": "code",
   "execution_count": null,
   "id": "04279560",
   "metadata": {},
   "outputs": [],
   "source": [
    "2 < 3 and 3 < 4"
   ]
  },
  {
   "cell_type": "markdown",
   "id": "2a9196d0",
   "metadata": {},
   "source": [
    "Łańcuch jest prawdziwy, jeżeli wszystkie składowe są prawdziwe:"
   ]
  },
  {
   "cell_type": "code",
   "execution_count": null,
   "id": "a956b662",
   "metadata": {},
   "outputs": [],
   "source": [
    "2 < 3 < 4"
   ]
  },
  {
   "cell_type": "code",
   "execution_count": null,
   "id": "a7f731d2",
   "metadata": {},
   "outputs": [],
   "source": [
    "not True"
   ]
  },
  {
   "cell_type": "markdown",
   "id": "794b027f",
   "metadata": {},
   "source": [
    "Uwaga na priorytety operatorów:"
   ]
  },
  {
   "cell_type": "code",
   "execution_count": 10,
   "id": "cb762c8d",
   "metadata": {},
   "outputs": [
    {
     "data": {
      "text/plain": [
       "True"
      ]
     },
     "execution_count": 10,
     "metadata": {},
     "output_type": "execute_result"
    }
   ],
   "source": [
    "True or True and False"
   ]
  },
  {
   "cell_type": "code",
   "execution_count": 11,
   "id": "a01a9cf0-796f-4ffd-b10b-de8f16163a4a",
   "metadata": {},
   "outputs": [
    {
     "data": {
      "text/plain": [
       "True"
      ]
     },
     "execution_count": 11,
     "metadata": {},
     "output_type": "execute_result"
    }
   ],
   "source": [
    "True or False and True"
   ]
  },
  {
   "cell_type": "code",
   "execution_count": null,
   "id": "24231256",
   "metadata": {},
   "outputs": [],
   "source": [
    "(True or True) and False"
   ]
  },
  {
   "cell_type": "markdown",
   "id": "7d5402a6-fe17-41f1-b470-94923abc4136",
   "metadata": {},
   "source": [
    "**Zadanie**. Sprawdź, czy 126 podzielone przez 6 jest mniejsze niż 5 pomnożone przez 5, ale większe niż 34 minus 17."
   ]
  },
  {
   "cell_type": "code",
   "execution_count": 18,
   "id": "a37640bc-b867-473b-b56b-746536e94fbc",
   "metadata": {},
   "outputs": [
    {
     "data": {
      "text/plain": [
       "True"
      ]
     },
     "execution_count": 18,
     "metadata": {},
     "output_type": "execute_result"
    }
   ],
   "source": [
    "34-17 < 126/6 < 5*5"
   ]
  },
  {
   "cell_type": "code",
   "execution_count": 13,
   "id": "7e9c3995-064c-4c18-9e5c-33b49560fb96",
   "metadata": {},
   "outputs": [
    {
     "data": {
      "text/plain": [
       "21.0"
      ]
     },
     "execution_count": 13,
     "metadata": {},
     "output_type": "execute_result"
    }
   ],
   "source": [
    "126/6"
   ]
  },
  {
   "cell_type": "code",
   "execution_count": 14,
   "id": "6f7b70a1-e011-4be4-ada9-42363960df44",
   "metadata": {},
   "outputs": [
    {
     "data": {
      "text/plain": [
       "25"
      ]
     },
     "execution_count": 14,
     "metadata": {},
     "output_type": "execute_result"
    }
   ],
   "source": [
    "5*5"
   ]
  },
  {
   "cell_type": "code",
   "execution_count": 15,
   "id": "045abb3e-b393-41f8-ae01-e3b8839c98d4",
   "metadata": {},
   "outputs": [
    {
     "data": {
      "text/plain": [
       "17"
      ]
     },
     "execution_count": 15,
     "metadata": {},
     "output_type": "execute_result"
    }
   ],
   "source": [
    "34-17"
   ]
  },
  {
   "cell_type": "markdown",
   "id": "e1cd0183",
   "metadata": {},
   "source": [
    "### Operacje bitowe"
   ]
  },
  {
   "cell_type": "markdown",
   "id": "9a2f9435",
   "metadata": {},
   "source": [
    "OR"
   ]
  },
  {
   "cell_type": "code",
   "execution_count": 16,
   "id": "e13179f7",
   "metadata": {
    "scrolled": true
   },
   "outputs": [
    {
     "data": {
      "text/plain": [
       "7"
      ]
     },
     "execution_count": 16,
     "metadata": {},
     "output_type": "execute_result"
    }
   ],
   "source": [
    "2 | 5"
   ]
  },
  {
   "cell_type": "markdown",
   "id": "5d357db8",
   "metadata": {},
   "source": [
    "AND"
   ]
  },
  {
   "cell_type": "code",
   "execution_count": 17,
   "id": "d9caae30",
   "metadata": {},
   "outputs": [
    {
     "data": {
      "text/plain": [
       "0"
      ]
     },
     "execution_count": 17,
     "metadata": {},
     "output_type": "execute_result"
    }
   ],
   "source": [
    "2 & 5"
   ]
  },
  {
   "cell_type": "markdown",
   "id": "f0712e9c",
   "metadata": {},
   "source": [
    "XOR"
   ]
  },
  {
   "cell_type": "code",
   "execution_count": null,
   "id": "a61102af",
   "metadata": {},
   "outputs": [],
   "source": [
    "2 ^ 5"
   ]
  },
  {
   "cell_type": "markdown",
   "id": "003901fe",
   "metadata": {},
   "source": [
    "Przesunięcie w lewo"
   ]
  },
  {
   "cell_type": "code",
   "execution_count": null,
   "id": "63ec302e",
   "metadata": {},
   "outputs": [],
   "source": [
    "2 << 5"
   ]
  },
  {
   "cell_type": "markdown",
   "id": "5985f430",
   "metadata": {},
   "source": [
    "Przesunięcie w prawo"
   ]
  },
  {
   "cell_type": "code",
   "execution_count": null,
   "id": "203004de",
   "metadata": {},
   "outputs": [],
   "source": [
    "2 >> 5"
   ]
  },
  {
   "cell_type": "markdown",
   "id": "7e724ed5",
   "metadata": {},
   "source": [
    "NOT"
   ]
  },
  {
   "cell_type": "code",
   "execution_count": null,
   "id": "6dfeb558",
   "metadata": {},
   "outputs": [],
   "source": [
    "~2"
   ]
  },
  {
   "cell_type": "code",
   "execution_count": null,
   "id": "a3e4822e",
   "metadata": {
    "scrolled": true
   },
   "outputs": [],
   "source": [
    "~5"
   ]
  },
  {
   "cell_type": "markdown",
   "id": "d814fad3",
   "metadata": {},
   "source": [
    "## Operator przypisania"
   ]
  },
  {
   "cell_type": "markdown",
   "id": "119514dd",
   "metadata": {},
   "source": [
    "Obie nazwy identyfikują ten sam obiekt:"
   ]
  },
  {
   "cell_type": "code",
   "execution_count": 19,
   "id": "06e7fcb0",
   "metadata": {},
   "outputs": [
    {
     "data": {
      "text/plain": [
       "1596787457616"
      ]
     },
     "execution_count": 19,
     "metadata": {},
     "output_type": "execute_result"
    }
   ],
   "source": [
    "a = 999\n",
    "b = a\n",
    "id(a)"
   ]
  },
  {
   "cell_type": "code",
   "execution_count": 20,
   "id": "b5230832",
   "metadata": {},
   "outputs": [
    {
     "data": {
      "text/plain": [
       "1596787457616"
      ]
     },
     "execution_count": 20,
     "metadata": {},
     "output_type": "execute_result"
    }
   ],
   "source": [
    "id(b)"
   ]
  },
  {
   "cell_type": "markdown",
   "id": "196a6253",
   "metadata": {},
   "source": [
    "Po przypisaniu innego obiektu, nazwa będzie skojarzona z nowym obiektem:"
   ]
  },
  {
   "cell_type": "code",
   "execution_count": null,
   "id": "599f479f",
   "metadata": {},
   "outputs": [],
   "source": [
    "b = 999\n",
    "id(b)"
   ]
  },
  {
   "cell_type": "markdown",
   "id": "76988f03",
   "metadata": {},
   "source": [
    "Interpreter tworzy obiekty odpowiadające liczbom całkowitym z przedziału [-5,256] podczas startu, a następnie wykorzystuje je wszędzie, gdzie występują w programie:"
   ]
  },
  {
   "cell_type": "code",
   "execution_count": null,
   "id": "5aae8f45",
   "metadata": {},
   "outputs": [],
   "source": [
    "a = 16\n",
    "b = 16"
   ]
  },
  {
   "cell_type": "code",
   "execution_count": null,
   "id": "5abaf5f2",
   "metadata": {},
   "outputs": [],
   "source": [
    "id(a)"
   ]
  },
  {
   "cell_type": "code",
   "execution_count": null,
   "id": "8508b463",
   "metadata": {},
   "outputs": [],
   "source": [
    "id(b)"
   ]
  },
  {
   "cell_type": "markdown",
   "id": "181cc5c3",
   "metadata": {},
   "source": [
    "## Wbudowane typy danych"
   ]
  },
  {
   "cell_type": "code",
   "execution_count": 21,
   "id": "6b408a8c",
   "metadata": {},
   "outputs": [
    {
     "data": {
      "text/plain": [
       "bool"
      ]
     },
     "execution_count": 21,
     "metadata": {},
     "output_type": "execute_result"
    }
   ],
   "source": [
    "a = True\n",
    "type(a)"
   ]
  },
  {
   "cell_type": "code",
   "execution_count": 22,
   "id": "2eebe2ec",
   "metadata": {},
   "outputs": [
    {
     "data": {
      "text/plain": [
       "int"
      ]
     },
     "execution_count": 22,
     "metadata": {},
     "output_type": "execute_result"
    }
   ],
   "source": [
    "b = 2\n",
    "type(b)"
   ]
  },
  {
   "cell_type": "code",
   "execution_count": 23,
   "id": "41b23424",
   "metadata": {},
   "outputs": [
    {
     "data": {
      "text/plain": [
       "float"
      ]
     },
     "execution_count": 23,
     "metadata": {},
     "output_type": "execute_result"
    }
   ],
   "source": [
    "c = 3.14\n",
    "type(c)"
   ]
  },
  {
   "cell_type": "markdown",
   "id": "c41498b6",
   "metadata": {},
   "source": [
    "### Niejawna konwersja typów"
   ]
  },
  {
   "cell_type": "code",
   "execution_count": 24,
   "id": "4f2b8814",
   "metadata": {},
   "outputs": [
    {
     "data": {
      "text/plain": [
       "3"
      ]
     },
     "execution_count": 24,
     "metadata": {},
     "output_type": "execute_result"
    }
   ],
   "source": [
    "a + b"
   ]
  },
  {
   "cell_type": "code",
   "execution_count": 25,
   "id": "b5b5700e",
   "metadata": {},
   "outputs": [
    {
     "data": {
      "text/plain": [
       "int"
      ]
     },
     "execution_count": 25,
     "metadata": {},
     "output_type": "execute_result"
    }
   ],
   "source": [
    "type(a + b)"
   ]
  },
  {
   "cell_type": "code",
   "execution_count": 26,
   "id": "3f4a95ee",
   "metadata": {},
   "outputs": [
    {
     "data": {
      "text/plain": [
       "5.140000000000001"
      ]
     },
     "execution_count": 26,
     "metadata": {},
     "output_type": "execute_result"
    }
   ],
   "source": [
    "b + c"
   ]
  },
  {
   "cell_type": "code",
   "execution_count": 27,
   "id": "c31833c1",
   "metadata": {},
   "outputs": [
    {
     "data": {
      "text/plain": [
       "float"
      ]
     },
     "execution_count": 27,
     "metadata": {},
     "output_type": "execute_result"
    }
   ],
   "source": [
    "type(b + c)"
   ]
  },
  {
   "cell_type": "markdown",
   "id": "ebe5d44b",
   "metadata": {},
   "source": [
    "### Jawna konwersja typu"
   ]
  },
  {
   "cell_type": "code",
   "execution_count": null,
   "id": "a356eb0e",
   "metadata": {},
   "outputs": [],
   "source": [
    "int(True)"
   ]
  },
  {
   "cell_type": "code",
   "execution_count": null,
   "id": "84b31ad4",
   "metadata": {},
   "outputs": [],
   "source": [
    "a = 1\n",
    "type(a)"
   ]
  },
  {
   "cell_type": "code",
   "execution_count": null,
   "id": "55cb6734",
   "metadata": {},
   "outputs": [],
   "source": [
    "float(a)"
   ]
  },
  {
   "cell_type": "markdown",
   "id": "09259f08",
   "metadata": {},
   "source": [
    "## Łańcuch znaków - **str** (ang. *String*)"
   ]
  },
  {
   "cell_type": "markdown",
   "id": "2e9194d5",
   "metadata": {},
   "source": [
    "Łańcuch można zdefiniować za pomocą `'` oraz `\"`:"
   ]
  },
  {
   "cell_type": "code",
   "execution_count": null,
   "id": "b7518386",
   "metadata": {},
   "outputs": [],
   "source": [
    "a = 'Łańcuch'"
   ]
  },
  {
   "cell_type": "code",
   "execution_count": null,
   "id": "1c3a77af",
   "metadata": {},
   "outputs": [],
   "source": [
    "print('Łańcuch')"
   ]
  },
  {
   "cell_type": "code",
   "execution_count": null,
   "id": "77171fef",
   "metadata": {},
   "outputs": [],
   "source": [
    "b = \"Łańcuch\"\n",
    "print(b)"
   ]
  },
  {
   "cell_type": "markdown",
   "id": "586444b1",
   "metadata": {},
   "source": [
    "Naprzemienne używanie `\"` oraz `'` pozwala zawrzeć znaki cudzysłowiu w łańcuchu:"
   ]
  },
  {
   "cell_type": "code",
   "execution_count": null,
   "id": "212504c5",
   "metadata": {},
   "outputs": [],
   "source": [
    "c = 'Premiera \"Grand Theft Auto VI\" jest zaplanowana na 26 maja 2026.'\n",
    "print(c)"
   ]
  },
  {
   "cell_type": "markdown",
   "id": "a3d5b970-c488-45bd-a216-200ddbdcdda4",
   "metadata": {},
   "source": [
    "Długość łańcucha znaków można sprawdzić za pomocą funkcji `len`:"
   ]
  },
  {
   "cell_type": "code",
   "execution_count": null,
   "id": "3b4ee549-4b3c-48cc-823a-cd55bb19d203",
   "metadata": {},
   "outputs": [],
   "source": [
    "len(c)"
   ]
  },
  {
   "cell_type": "markdown",
   "id": "c6da7c75",
   "metadata": {},
   "source": [
    "### Indeksowanie łańcucha znaków"
   ]
  },
  {
   "cell_type": "code",
   "execution_count": 28,
   "id": "7c1b5c14",
   "metadata": {},
   "outputs": [],
   "source": [
    "nazwa = 'Niezwyciężony'"
   ]
  },
  {
   "cell_type": "code",
   "execution_count": 30,
   "id": "c2933b89",
   "metadata": {},
   "outputs": [
    {
     "data": {
      "text/plain": [
       "'N'"
      ]
     },
     "execution_count": 30,
     "metadata": {},
     "output_type": "execute_result"
    }
   ],
   "source": [
    "nazwa[0]"
   ]
  },
  {
   "cell_type": "code",
   "execution_count": 45,
   "id": "59985a54-bcfb-4064-b69a-3d16a3448783",
   "metadata": {},
   "outputs": [
    {
     "ename": "SyntaxError",
     "evalue": "invalid syntax (3313005208.py, line 1)",
     "output_type": "error",
     "traceback": [
      "\u001b[1;36m  Cell \u001b[1;32mIn[45], line 1\u001b[1;36m\u001b[0m\n\u001b[1;33m    nazwa[20] ?? null\u001b[0m\n\u001b[1;37m              ^\u001b[0m\n\u001b[1;31mSyntaxError\u001b[0m\u001b[1;31m:\u001b[0m invalid syntax\n"
     ]
    }
   ],
   "source": [
    "nazwa[20] ?? null"
   ]
  },
  {
   "cell_type": "code",
   "execution_count": 46,
   "id": "c42f61c4-f473-4206-8775-a2969884268a",
   "metadata": {},
   "outputs": [
    {
     "ename": "IndexError",
     "evalue": "string index out of range",
     "output_type": "error",
     "traceback": [
      "\u001b[1;31m---------------------------------------------------------------------------\u001b[0m",
      "\u001b[1;31mIndexError\u001b[0m                                Traceback (most recent call last)",
      "Cell \u001b[1;32mIn[46], line 2\u001b[0m\n\u001b[0;32m      1\u001b[0m nazwa \u001b[38;5;241m=\u001b[39m \u001b[38;5;124m'\u001b[39m\u001b[38;5;124mNiezwyciężony\u001b[39m\u001b[38;5;124m'\u001b[39m\n\u001b[1;32m----> 2\u001b[0m nazwa[\u001b[38;5;241m20\u001b[39m] \u001b[38;5;28;01mif\u001b[39;00m \u001b[38;5;28mlen\u001b[39m(nazwa) \u001b[38;5;28;01melse\u001b[39;00m none\n",
      "\u001b[1;31mIndexError\u001b[0m: string index out of range"
     ]
    }
   ],
   "source": [
    "nazwa = 'Niezwyciężony'\n",
    "nazwa[20] if len(nazwa) else none\n",
    "\n"
   ]
  },
  {
   "cell_type": "code",
   "execution_count": null,
   "id": "7b0b8475",
   "metadata": {},
   "outputs": [],
   "source": [
    "nazwa[1]"
   ]
  },
  {
   "cell_type": "code",
   "execution_count": null,
   "id": "2265e4dd",
   "metadata": {},
   "outputs": [],
   "source": [
    "nazwa[5]"
   ]
  },
  {
   "cell_type": "code",
   "execution_count": 31,
   "id": "604813e2",
   "metadata": {},
   "outputs": [
    {
     "data": {
      "text/plain": [
       "'y'"
      ]
     },
     "execution_count": 31,
     "metadata": {},
     "output_type": "execute_result"
    }
   ],
   "source": [
    "nazwa[len(nazwa)-1]"
   ]
  },
  {
   "cell_type": "code",
   "execution_count": 32,
   "id": "85cb07fc",
   "metadata": {},
   "outputs": [
    {
     "data": {
      "text/plain": [
       "'y'"
      ]
     },
     "execution_count": 32,
     "metadata": {},
     "output_type": "execute_result"
    }
   ],
   "source": [
    "nazwa[-1]"
   ]
  },
  {
   "cell_type": "code",
   "execution_count": 33,
   "id": "a9bb631f",
   "metadata": {},
   "outputs": [
    {
     "data": {
      "text/plain": [
       "'n'"
      ]
     },
     "execution_count": 33,
     "metadata": {},
     "output_type": "execute_result"
    }
   ],
   "source": [
    "nazwa[-2]"
   ]
  },
  {
   "cell_type": "code",
   "execution_count": 34,
   "id": "28563c6e",
   "metadata": {},
   "outputs": [
    {
     "data": {
      "text/plain": [
       "'Ni'"
      ]
     },
     "execution_count": 34,
     "metadata": {},
     "output_type": "execute_result"
    }
   ],
   "source": [
    "nazwa[0:2]"
   ]
  },
  {
   "cell_type": "code",
   "execution_count": 35,
   "id": "99c3a230",
   "metadata": {},
   "outputs": [
    {
     "data": {
      "text/plain": [
       "'Niezwyciężo'"
      ]
     },
     "execution_count": 35,
     "metadata": {},
     "output_type": "execute_result"
    }
   ],
   "source": [
    "nazwa[0:11]"
   ]
  },
  {
   "cell_type": "code",
   "execution_count": 36,
   "id": "9121ff34",
   "metadata": {},
   "outputs": [
    {
     "data": {
      "text/plain": [
       "'Niezwyciężo'"
      ]
     },
     "execution_count": 36,
     "metadata": {},
     "output_type": "execute_result"
    }
   ],
   "source": [
    "nazwa[:11]"
   ]
  },
  {
   "cell_type": "code",
   "execution_count": null,
   "id": "f24a9a16",
   "metadata": {},
   "outputs": [],
   "source": [
    "nazwa[-3:-1]"
   ]
  },
  {
   "cell_type": "code",
   "execution_count": 37,
   "id": "aecab9ae",
   "metadata": {},
   "outputs": [
    {
     "data": {
      "text/plain": [
       "'ony'"
      ]
     },
     "execution_count": 37,
     "metadata": {},
     "output_type": "execute_result"
    }
   ],
   "source": [
    "nazwa[-3:len(nazwa)]"
   ]
  },
  {
   "cell_type": "code",
   "execution_count": 38,
   "id": "84d30dff",
   "metadata": {},
   "outputs": [
    {
     "data": {
      "text/plain": [
       "'ony'"
      ]
     },
     "execution_count": 38,
     "metadata": {},
     "output_type": "execute_result"
    }
   ],
   "source": [
    "nazwa[-3:]"
   ]
  },
  {
   "cell_type": "code",
   "execution_count": 39,
   "id": "81b9d367",
   "metadata": {},
   "outputs": [
    {
     "data": {
      "text/plain": [
       "'Niezwyciężo'"
      ]
     },
     "execution_count": 39,
     "metadata": {},
     "output_type": "execute_result"
    }
   ],
   "source": [
    "nazwa[0:11:1]"
   ]
  },
  {
   "cell_type": "code",
   "execution_count": 40,
   "id": "bce7b890",
   "metadata": {},
   "outputs": [
    {
     "data": {
      "text/plain": [
       "'Newcęo'"
      ]
     },
     "execution_count": 40,
     "metadata": {},
     "output_type": "execute_result"
    }
   ],
   "source": [
    "nazwa[0:11:2]"
   ]
  },
  {
   "cell_type": "code",
   "execution_count": 41,
   "id": "f8becc57",
   "metadata": {},
   "outputs": [
    {
     "data": {
      "text/plain": [
       "'Nzcż'"
      ]
     },
     "execution_count": 41,
     "metadata": {},
     "output_type": "execute_result"
    }
   ],
   "source": [
    "nazwa[0:11:3]"
   ]
  },
  {
   "cell_type": "code",
   "execution_count": 42,
   "id": "63091a9d",
   "metadata": {},
   "outputs": [
    {
     "data": {
      "text/plain": [
       "'ożęicywzei'"
      ]
     },
     "execution_count": 42,
     "metadata": {},
     "output_type": "execute_result"
    }
   ],
   "source": [
    "nazwa[10:0:-1]"
   ]
  },
  {
   "cell_type": "code",
   "execution_count": 43,
   "id": "95cbfa91",
   "metadata": {},
   "outputs": [
    {
     "data": {
      "text/plain": [
       "'ożęicywzeiN'"
      ]
     },
     "execution_count": 43,
     "metadata": {},
     "output_type": "execute_result"
    }
   ],
   "source": [
    "nazwa[10::-1]"
   ]
  },
  {
   "cell_type": "code",
   "execution_count": 44,
   "id": "cce4ad2e",
   "metadata": {},
   "outputs": [
    {
     "data": {
      "text/plain": [
       "'ynożęicywzeiN'"
      ]
     },
     "execution_count": 44,
     "metadata": {},
     "output_type": "execute_result"
    }
   ],
   "source": [
    "nazwa[::-1]"
   ]
  },
  {
   "cell_type": "markdown",
   "id": "fa7f6e7f-13a9-4af4-8b9f-0f02c1867055",
   "metadata": {},
   "source": [
    "**Zadanie**. Dla numeru telefonu '691-142-512' korzystając z odpowiedniego indeksowania wypisz:\n",
    "\n",
    "- pierwszą cyfrę z każdej grupy,\n",
    "- drugą cyfrę z każdej grupy,\n",
    "- ostatnią cyfrę z każdej grupy zaczynając od końca numeru (czyli 221),\n",
    "- pierwszą, środkową i ostatnią cyfrę."
   ]
  },
  {
   "cell_type": "code",
   "execution_count": 47,
   "id": "49e6d099-9b54-4185-b419-aed04d762dde",
   "metadata": {},
   "outputs": [],
   "source": [
    "tel='691-142-512'"
   ]
  },
  {
   "cell_type": "code",
   "execution_count": 49,
   "id": "0b3323fd-f960-4e3e-8a22-acc55a335429",
   "metadata": {},
   "outputs": [
    {
     "data": {
      "text/plain": [
       "'615'"
      ]
     },
     "execution_count": 49,
     "metadata": {},
     "output_type": "execute_result"
    }
   ],
   "source": [
    "tel[0:11:4]"
   ]
  },
  {
   "cell_type": "code",
   "execution_count": 73,
   "id": "3544fad7-32ee-4dda-9a09-ab9449b9af87",
   "metadata": {},
   "outputs": [
    {
     "data": {
      "text/plain": [
       "'615'"
      ]
     },
     "execution_count": 73,
     "metadata": {},
     "output_type": "execute_result"
    }
   ],
   "source": [
    "tel[::4]"
   ]
  },
  {
   "cell_type": "code",
   "execution_count": 52,
   "id": "9f98a774-fd55-4d0e-9fa3-52d43d99a568",
   "metadata": {},
   "outputs": [
    {
     "data": {
      "text/plain": [
       "'941'"
      ]
     },
     "execution_count": 52,
     "metadata": {},
     "output_type": "execute_result"
    }
   ],
   "source": [
    "tel[1:11:4]"
   ]
  },
  {
   "cell_type": "code",
   "execution_count": 62,
   "id": "d6e01791-4a4c-4c29-a273-1fe4c452d399",
   "metadata": {},
   "outputs": [
    {
     "data": {
      "text/plain": [
       "'541'"
      ]
     },
     "execution_count": 62,
     "metadata": {},
     "output_type": "execute_result"
    }
   ],
   "source": [
    "(tel[2] + tel[5] + tel[8])[::-1]"
   ]
  },
  {
   "cell_type": "code",
   "execution_count": 75,
   "id": "4b0998a8-fc81-42d3-9618-a77a3ef07260",
   "metadata": {},
   "outputs": [
    {
     "data": {
      "text/plain": [
       "'642'"
      ]
     },
     "execution_count": 75,
     "metadata": {},
     "output_type": "execute_result"
    }
   ],
   "source": [
    "tel[::5]"
   ]
  },
  {
   "cell_type": "code",
   "execution_count": null,
   "id": "23ff180d-d7da-43d4-b24c-5d19a3456cc0",
   "metadata": {},
   "outputs": [],
   "source": []
  },
  {
   "cell_type": "code",
   "execution_count": 72,
   "id": "14612338-30a1-4dc8-ae09-02ec1b3261dc",
   "metadata": {},
   "outputs": [
    {
     "data": {
      "text/plain": [
       "'221'"
      ]
     },
     "execution_count": 72,
     "metadata": {},
     "output_type": "execute_result"
    }
   ],
   "source": [
    "tel[10]+tel[6]+tel[2]"
   ]
  },
  {
   "cell_type": "code",
   "execution_count": 74,
   "id": "e1e40b21-051e-42ff-8bc0-d85fde8e0846",
   "metadata": {},
   "outputs": [
    {
     "data": {
      "text/plain": [
       "'221'"
      ]
     },
     "execution_count": 74,
     "metadata": {},
     "output_type": "execute_result"
    }
   ],
   "source": [
    "tel[::-4]"
   ]
  },
  {
   "cell_type": "markdown",
   "id": "7b4dedec",
   "metadata": {},
   "source": [
    "## Słowa kluczowe"
   ]
  },
  {
   "cell_type": "code",
   "execution_count": 76,
   "id": "43619160",
   "metadata": {},
   "outputs": [
    {
     "name": "stdout",
     "output_type": "stream",
     "text": [
      "\n",
      "Here is a list of the Python keywords.  Enter any keyword to get more help.\n",
      "\n",
      "False               class               from                or\n",
      "None                continue            global              pass\n",
      "True                def                 if                  raise\n",
      "and                 del                 import              return\n",
      "as                  elif                in                  try\n",
      "assert              else                is                  while\n",
      "async               except              lambda              with\n",
      "await               finally             nonlocal            yield\n",
      "break               for                 not                 \n",
      "\n"
     ]
    }
   ],
   "source": [
    "help('keywords')"
   ]
  },
  {
   "cell_type": "markdown",
   "id": "c0a6d713",
   "metadata": {},
   "source": [
    "## Przepływ sterowania"
   ]
  },
  {
   "cell_type": "markdown",
   "id": "9698badf",
   "metadata": {},
   "source": [
    "### if"
   ]
  },
  {
   "cell_type": "code",
   "execution_count": null,
   "id": "3e4f61fc",
   "metadata": {},
   "outputs": [],
   "source": [
    "liczba = -1\n",
    "if liczba < 0:\n",
    "    print('liczba ujemna')"
   ]
  },
  {
   "cell_type": "code",
   "execution_count": null,
   "id": "0ce6ba2c",
   "metadata": {},
   "outputs": [],
   "source": [
    "liczba = 1\n",
    "if liczba < 0:\n",
    "    print('liczba ujemna')\n",
    "elif liczba > 0:\n",
    "    print('liczba dodatnia')"
   ]
  },
  {
   "cell_type": "code",
   "execution_count": null,
   "id": "90216ed4",
   "metadata": {},
   "outputs": [],
   "source": [
    "liczba = 0\n",
    "if liczba < 0:\n",
    "    print('liczba ujemna')\n",
    "elif liczba > 0:\n",
    "    print('liczba dodatnia')\n",
    "else:\n",
    "    print('zero')"
   ]
  },
  {
   "cell_type": "markdown",
   "id": "f683ad80-46ac-4a24-a0d2-68773be54150",
   "metadata": {},
   "source": [
    "**Zadanie** Przypisz do zmiennych `a`, `b` i `c` dowolne liczby. Następnie korzystając z konstrukcji `if/elif/else` wyświetl komunikat mówiący o tym, ile rozwiązań ma równanie $ax^2 + bx + c = 0$."
   ]
  },
  {
   "cell_type": "code",
   "execution_count": 82,
   "id": "4d5b840e-b3e6-43a4-8486-b7b539089652",
   "metadata": {},
   "outputs": [
    {
     "name": "stdout",
     "output_type": "stream",
     "text": [
      "Równanie ma dwa rozwiązania rzeczywiste.\n"
     ]
    }
   ],
   "source": [
    "# przypisanie wartości do zmiennych\n",
    "a = 2\n",
    "b = 1\n",
    "c = 0\n",
    "\n",
    "# obliczenie delty\n",
    "delta = b**2 - 4*a*c\n",
    "\n",
    "# sprawdzenie liczby rozwiązań\n",
    "if delta > 0:\n",
    "    print(\"Równanie ma dwa rozwiązania rzeczywiste.\")\n",
    "elif delta == 0:\n",
    "    print(\"Równanie ma jedno rozwiązanie rzeczywiste.\")\n",
    "else:\n",
    "    print(\"Równanie nie ma rozwiązań rzeczywistych.\")\n"
   ]
  },
  {
   "cell_type": "markdown",
   "id": "3d4aa59a",
   "metadata": {},
   "source": [
    "### for"
   ]
  },
  {
   "cell_type": "markdown",
   "id": "da494c3e-163a-4cff-928c-a603e66572e7",
   "metadata": {},
   "source": [
    "Pętla `for` umożliwia powtórzenie kodu. Przykładowa pętla, gdzie zmienna iterująca `i` przyjmuje wartości od 0 do 4:"
   ]
  },
  {
   "cell_type": "code",
   "execution_count": null,
   "id": "e4224e35-c507-48fe-9415-7a6c3841c898",
   "metadata": {},
   "outputs": [],
   "source": [
    "for i in range(5):\n",
    "    print(i)"
   ]
  },
  {
   "cell_type": "markdown",
   "id": "8fdf39b4-a792-4d46-9d07-8cbeaba4b3e9",
   "metadata": {},
   "source": [
    "Jeżeli do funkcji `range` dodamy drugi parametr, zmienna będzie przyjmowała zadaną wartość zamiast domyślnej wartości 0:"
   ]
  },
  {
   "cell_type": "code",
   "execution_count": null,
   "id": "bec5bf5e-4a72-47b5-b5e1-ed3253b52d0f",
   "metadata": {
    "scrolled": true
   },
   "outputs": [],
   "source": [
    "for i in range(2,5):\n",
    "    print(i)"
   ]
  },
  {
   "cell_type": "markdown",
   "id": "b0fc53b3-2679-41bd-afcc-bbc002a2a134",
   "metadata": {},
   "source": [
    "Dodanie trzeciego parametru umożliwia ustalenie kroku, o jaki zmieniana jest w kolejnych iteracjach wartość zmiennej:"
   ]
  },
  {
   "cell_type": "code",
   "execution_count": null,
   "id": "88406fa9-2b4c-4f9e-b3b7-c1854cdb239a",
   "metadata": {},
   "outputs": [],
   "source": [
    "for i in range(1,5,2):\n",
    "    print(i)"
   ]
  },
  {
   "cell_type": "code",
   "execution_count": null,
   "id": "4f6dfdc6-0638-448a-b558-02d2e037aa38",
   "metadata": {},
   "outputs": [],
   "source": [
    "for i in range(5,0,-1): # krok ujemny\n",
    "    print(i)"
   ]
  },
  {
   "cell_type": "markdown",
   "id": "2bbc987f-0716-467d-acb0-27017c0ec1e4",
   "metadata": {},
   "source": [
    "Zmienna może iterować po kolekcji, np. liście:"
   ]
  },
  {
   "cell_type": "code",
   "execution_count": null,
   "id": "3bae3843-e4c0-40df-b2c8-11da98bc4c88",
   "metadata": {},
   "outputs": [],
   "source": [
    "l = ['las', 'drzewo', 'gałąź']\n",
    "for i in l:\n",
    "    if len(i) > 4:  # tylko łańcuchy o więcej niż 4 literach\n",
    "        print(i)"
   ]
  },
  {
   "cell_type": "markdown",
   "id": "fc6aa7c0",
   "metadata": {},
   "source": [
    "### while"
   ]
  },
  {
   "cell_type": "markdown",
   "id": "2addede4-67e0-41e8-8334-6ee2c29ee9e0",
   "metadata": {},
   "source": [
    "Pętla `while` jest wykonywana, dopóki spełniony jest warunek po słowie kluczowym `while`. Warunek jest każdorazowo sprawdzany przed wejściem do pętli."
   ]
  },
  {
   "cell_type": "code",
   "execution_count": 77,
   "id": "22281829-4ac9-4ead-9461-5a86031ddb18",
   "metadata": {},
   "outputs": [
    {
     "name": "stdout",
     "output_type": "stream",
     "text": [
      "20\n",
      "15\n",
      "10\n",
      "5\n"
     ]
    }
   ],
   "source": [
    "a = 20\n",
    "while a > 0:\n",
    "    print(a)\n",
    "    a -= 5"
   ]
  },
  {
   "cell_type": "code",
   "execution_count": 78,
   "id": "25dc746c",
   "metadata": {},
   "outputs": [
    {
     "name": "stdout",
     "output_type": "stream",
     "text": [
      "1024\n",
      "2048\n",
      "4096\n",
      "8192\n",
      "16384\n",
      "32768\n"
     ]
    }
   ],
   "source": [
    "# wypisz potęgi 2 od 10. do 15.\n",
    "exp = 10\n",
    "while exp <= 15:\n",
    "    print(2**exp)\n",
    "    exp += 1"
   ]
  },
  {
   "cell_type": "code",
   "execution_count": 79,
   "id": "1685ab26",
   "metadata": {},
   "outputs": [
    {
     "name": "stdout",
     "output_type": "stream",
     "text": [
      "Do zakodowania 20 milionów komórek pamięci potrzeba 25 bitów\n",
      "Do zakodowania 20 milionów komórek pamięci potrzeba 25 bitów\n"
     ]
    }
   ],
   "source": [
    "# ile bitów potrzeba do zakodowania 20 milionów komórek pamięci?\n",
    "exp = 1\n",
    "while 2**exp <= 20000000:\n",
    "    exp += 1\n",
    "print('Do zakodowania 20 milionów komórek pamięci potrzeba ' + str(exp) + ' bitów')\n",
    "# sprawdzenie\n",
    "import math\n",
    "print('Do zakodowania 20 milionów komórek pamięci potrzeba ' + str(math.ceil(math.log2(20000000))) + ' bitów')"
   ]
  },
  {
   "cell_type": "code",
   "execution_count": null,
   "id": "10984436-bea5-4f3b-8a02-852efa7811d9",
   "metadata": {},
   "outputs": [],
   "source": []
  },
  {
   "cell_type": "markdown",
   "id": "04499f86-ae55-4741-b293-64defee21ad1",
   "metadata": {},
   "source": [
    "**Zadanie**. Dla każdego poniższych łańcuchów znaków `s` wypisz wszystkie "
   ]
  },
  {
   "cell_type": "markdown",
   "id": "95e407c5",
   "metadata": {},
   "source": [
    "### Definiowanie funkcji"
   ]
  },
  {
   "cell_type": "code",
   "execution_count": null,
   "id": "af81e922-721f-442b-aff4-4ad9ae126c2e",
   "metadata": {},
   "outputs": [],
   "source": [
    "def dzielenie(licznik, mianownik):\n",
    "    return licznik/mianownik\n",
    "    \n",
    "print(dzielenie(1,2))"
   ]
  },
  {
   "cell_type": "code",
   "execution_count": null,
   "id": "de627e7a-d271-4498-b217-357dec1149e9",
   "metadata": {},
   "outputs": [],
   "source": [
    "print(dzielenie(1,0))"
   ]
  },
  {
   "cell_type": "code",
   "execution_count": null,
   "id": "ca8e0ed4",
   "metadata": {
    "scrolled": true
   },
   "outputs": [],
   "source": [
    "print(dzielenie(1,'0'))"
   ]
  },
  {
   "cell_type": "markdown",
   "id": "336e091e",
   "metadata": {},
   "source": [
    "### Przechwytywanie wyjątków"
   ]
  },
  {
   "cell_type": "code",
   "execution_count": null,
   "id": "85f6717b",
   "metadata": {},
   "outputs": [],
   "source": [
    "try:\n",
    "    dzielenie(1,0)\n",
    "except ZeroDivisionError:\n",
    "    print('Mianownik nie może być zerem')"
   ]
  },
  {
   "cell_type": "code",
   "execution_count": null,
   "id": "f6826c46",
   "metadata": {},
   "outputs": [],
   "source": [
    "try:\n",
    "    dzielenie(1,1)\n",
    "except ZeroDivisionError:\n",
    "    print('Mianownik nie może być zerem')\n",
    "else:\n",
    "    print('Nie było błędów')\n",
    "finally:\n",
    "    print('Zawsze wykonany kod')"
   ]
  },
  {
   "cell_type": "code",
   "execution_count": null,
   "id": "66088c3c",
   "metadata": {},
   "outputs": [],
   "source": [
    "try:\n",
    "    dzielenie('1','0')\n",
    "    dzielenie(1,0)\n",
    "except ZeroDivisionError:\n",
    "    print('Mianownik nie może być zerem')\n",
    "except TypeError:\n",
    "    print('Oba argumenty muszą być liczbami')\n",
    "else:\n",
    "    print('Nie było błędów')\n",
    "finally:\n",
    "    print('Zawsze wykonany kod')"
   ]
  },
  {
   "cell_type": "markdown",
   "id": "843a39d5",
   "metadata": {},
   "source": [
    "### Korzystanie z plików"
   ]
  },
  {
   "cell_type": "code",
   "execution_count": 88,
   "id": "7c6c7590",
   "metadata": {},
   "outputs": [
    {
     "name": "stdout",
     "output_type": "stream",
     "text": [
      "['jeden\\n', 'dwa\\n', 'trzy']\n"
     ]
    }
   ],
   "source": [
    "file = open(\"plik.txt\")\n",
    "lines = file.readlines()\n",
    "print(lines)\n",
    "file.close()"
   ]
  },
  {
   "cell_type": "code",
   "execution_count": 89,
   "id": "9fffaace",
   "metadata": {},
   "outputs": [
    {
     "name": "stdout",
     "output_type": "stream",
     "text": [
      "['jeden\\n', 'dwa\\n', 'trzy']\n"
     ]
    }
   ],
   "source": [
    "with open(\"plik.txt\") as file:\n",
    "    lines = file.readlines()\n",
    "    print(lines)"
   ]
  },
  {
   "cell_type": "code",
   "execution_count": null,
   "id": "c3c0fc0f",
   "metadata": {},
   "outputs": [],
   "source": [
    "with menadżer_kontekstu_zasobu() as zasób:\n",
    "    # Wykonaj instrukcje korzystając z zasobu.\n",
    "    ...\n",
    "# Wykonaj instrukcje mając gwarancję, że zasób został zwolniony.\n",
    "..."
   ]
  },
  {
   "cell_type": "markdown",
   "id": "0bdbde7a",
   "metadata": {},
   "source": [
    "### Przerywanie pętli: `break` i `continue`"
   ]
  },
  {
   "cell_type": "code",
   "execution_count": null,
   "id": "71892960",
   "metadata": {},
   "outputs": [],
   "source": [
    "for i in range(4):\n",
    "    if i == 2:\n",
    "        break\n",
    "    print(i)"
   ]
  },
  {
   "cell_type": "code",
   "execution_count": null,
   "id": "67c2bda3",
   "metadata": {},
   "outputs": [],
   "source": [
    "for i in range(4):\n",
    "    if i == 2:\n",
    "        continue\n",
    "    print(i)"
   ]
  },
  {
   "cell_type": "markdown",
   "id": "a0db2854",
   "metadata": {},
   "source": [
    "### Importowanie modułów"
   ]
  },
  {
   "cell_type": "code",
   "execution_count": 90,
   "id": "ba7d8098",
   "metadata": {},
   "outputs": [
    {
     "data": {
      "text/plain": [
       "'win32'"
      ]
     },
     "execution_count": 90,
     "metadata": {},
     "output_type": "execute_result"
    }
   ],
   "source": [
    "import sys\n",
    "sys.platform"
   ]
  },
  {
   "cell_type": "code",
   "execution_count": 92,
   "id": "549c2580-5d77-4702-b387-f6c944d9cf8f",
   "metadata": {},
   "outputs": [
    {
     "name": "stdout",
     "output_type": "stream",
     "text": [
      "Help on built-in module sys:\n",
      "\n",
      "NAME\n",
      "    sys\n",
      "\n",
      "MODULE REFERENCE\n",
      "    https://docs.python.org/3.13/library/sys.html\n",
      "\n",
      "    The following documentation is automatically generated from the Python\n",
      "    source files.  It may be incomplete, incorrect or include features that\n",
      "    are considered implementation detail and may vary between Python\n",
      "    implementations.  When in doubt, consult the module reference at the\n",
      "    location listed above.\n",
      "\n",
      "DESCRIPTION\n",
      "    This module provides access to some objects used or maintained by the\n",
      "    interpreter and to functions that interact strongly with the interpreter.\n",
      "\n",
      "    Dynamic objects:\n",
      "\n",
      "    argv -- command line arguments; argv[0] is the script pathname if known\n",
      "    path -- module search path; path[0] is the script directory, else ''\n",
      "    modules -- dictionary of loaded modules\n",
      "\n",
      "    displayhook -- called to show results in an interactive session\n",
      "    excepthook -- called to handle any uncaught exception other than SystemExit\n",
      "      To customize printing in an interactive session or to install a custom\n",
      "      top-level exception handler, assign other functions to replace these.\n",
      "\n",
      "    stdin -- standard input file object; used by input()\n",
      "    stdout -- standard output file object; used by print()\n",
      "    stderr -- standard error object; used for error messages\n",
      "      By assigning other file objects (or objects that behave like files)\n",
      "      to these, it is possible to redirect all of the interpreter's I/O.\n",
      "\n",
      "    last_exc - the last uncaught exception\n",
      "      Only available in an interactive session after a\n",
      "      traceback has been printed.\n",
      "    last_type -- type of last uncaught exception\n",
      "    last_value -- value of last uncaught exception\n",
      "    last_traceback -- traceback of last uncaught exception\n",
      "      These three are the (deprecated) legacy representation of last_exc.\n",
      "\n",
      "    Static objects:\n",
      "\n",
      "    builtin_module_names -- tuple of module names built into this interpreter\n",
      "    copyright -- copyright notice pertaining to this interpreter\n",
      "    exec_prefix -- prefix used to find the machine-specific Python library\n",
      "    executable -- absolute path of the executable binary of the Python interpreter\n",
      "    float_info -- a named tuple with information about the float implementation.\n",
      "    float_repr_style -- string indicating the style of repr() output for floats\n",
      "    hash_info -- a named tuple with information about the hash algorithm.\n",
      "    hexversion -- version information encoded as a single integer\n",
      "    implementation -- Python implementation information.\n",
      "    int_info -- a named tuple with information about the int implementation.\n",
      "    maxsize -- the largest supported length of containers.\n",
      "    maxunicode -- the value of the largest Unicode code point\n",
      "    platform -- platform identifier\n",
      "    prefix -- prefix used to find the Python library\n",
      "    thread_info -- a named tuple with information about the thread implementation.\n",
      "    version -- the version of this interpreter as a string\n",
      "    version_info -- version information as a named tuple\n",
      "    dllhandle -- [Windows only] integer handle of the Python DLL\n",
      "    winver -- [Windows only] version number of the Python DLL\n",
      "    _enablelegacywindowsfsencoding -- [Windows only]\n",
      "    __stdin__ -- the original stdin; don't touch!\n",
      "    __stdout__ -- the original stdout; don't touch!\n",
      "    __stderr__ -- the original stderr; don't touch!\n",
      "    __displayhook__ -- the original displayhook; don't touch!\n",
      "    __excepthook__ -- the original excepthook; don't touch!\n",
      "\n",
      "    Functions:\n",
      "\n",
      "    displayhook() -- print an object to the screen, and save it in builtins._\n",
      "    excepthook() -- print an exception and its traceback to sys.stderr\n",
      "    exception() -- return the current thread's active exception\n",
      "    exc_info() -- return information about the current thread's active exception\n",
      "    exit() -- exit the interpreter by raising SystemExit\n",
      "    getdlopenflags() -- returns flags to be used for dlopen() calls\n",
      "    getprofile() -- get the global profiling function\n",
      "    getrefcount() -- return the reference count for an object (plus one :-)\n",
      "    getrecursionlimit() -- return the max recursion depth for the interpreter\n",
      "    getsizeof() -- return the size of an object in bytes\n",
      "    gettrace() -- get the global debug tracing function\n",
      "    setdlopenflags() -- set the flags to be used for dlopen() calls\n",
      "    setprofile() -- set the global profiling function\n",
      "    setrecursionlimit() -- set the max recursion depth for the interpreter\n",
      "    settrace() -- set the global debug tracing function\n",
      "\n",
      "SUBMODULES\n",
      "    monitoring\n",
      "\n",
      "FUNCTIONS\n",
      "    __breakpointhook__ = breakpointhook(*args, **kwargs)\n",
      "        This hook function is called by built-in breakpoint().\n",
      "\n",
      "    __displayhook__ = displayhook(object, /)\n",
      "        Print an object to sys.stdout and also save it in builtins._\n",
      "\n",
      "    __excepthook__ = excepthook(exctype, value, traceback, /)\n",
      "        Handle an exception by displaying it with a traceback on sys.stderr.\n",
      "\n",
      "    __unraisablehook__ = unraisablehook(unraisable, /)\n",
      "        Handle an unraisable exception.\n",
      "\n",
      "        The unraisable argument has the following attributes:\n",
      "\n",
      "        * exc_type: Exception type.\n",
      "        * exc_value: Exception value, can be None.\n",
      "        * exc_traceback: Exception traceback, can be None.\n",
      "        * err_msg: Error message, can be None.\n",
      "        * object: Object causing the exception, can be None.\n",
      "\n",
      "    activate_stack_trampoline(backend, /)\n",
      "        Activate stack profiler trampoline *backend*.\n",
      "\n",
      "    addaudithook(hook)\n",
      "        Adds a new audit hook callback.\n",
      "\n",
      "    audit(event, /, *args)\n",
      "        Passes the event to any audit hooks that are attached.\n",
      "\n",
      "    call_tracing(func, args, /)\n",
      "        Call func(*args), while tracing is enabled.\n",
      "\n",
      "        The tracing state is saved, and restored afterwards.  This is intended\n",
      "        to be called from a debugger from a checkpoint, to recursively debug\n",
      "        some other code.\n",
      "\n",
      "    deactivate_stack_trampoline()\n",
      "        Deactivate the current stack profiler trampoline backend.\n",
      "\n",
      "        If no stack profiler is activated, this function has no effect.\n",
      "\n",
      "    exc_info()\n",
      "        Return current exception information: (type, value, traceback).\n",
      "\n",
      "        Return information about the most recent exception caught by an except\n",
      "        clause in the current stack frame or in an older stack frame.\n",
      "\n",
      "    exception()\n",
      "        Return the current exception.\n",
      "\n",
      "        Return the most recent exception caught by an except clause\n",
      "        in the current stack frame or in an older stack frame, or None\n",
      "        if no such exception exists.\n",
      "\n",
      "    exit(status=None, /)\n",
      "        Exit the interpreter by raising SystemExit(status).\n",
      "\n",
      "        If the status is omitted or None, it defaults to zero (i.e., success).\n",
      "        If the status is an integer, it will be used as the system exit status.\n",
      "        If it is another kind of object, it will be printed and the system\n",
      "        exit status will be one (i.e., failure).\n",
      "\n",
      "    get_asyncgen_hooks()\n",
      "        Return the installed asynchronous generators hooks.\n",
      "\n",
      "        This returns a namedtuple of the form (firstiter, finalizer).\n",
      "\n",
      "    get_coroutine_origin_tracking_depth()\n",
      "        Check status of origin tracking for coroutine objects in this thread.\n",
      "\n",
      "    get_int_max_str_digits()\n",
      "        Return the maximum string digits limit for non-binary int<->str conversions.\n",
      "\n",
      "    getallocatedblocks()\n",
      "        Return the number of memory blocks currently allocated.\n",
      "\n",
      "    getdefaultencoding()\n",
      "        Return the current default encoding used by the Unicode implementation.\n",
      "\n",
      "    getfilesystemencodeerrors()\n",
      "        Return the error mode used Unicode to OS filename conversion.\n",
      "\n",
      "    getfilesystemencoding()\n",
      "        Return the encoding used to convert Unicode filenames to OS filenames.\n",
      "\n",
      "    getprofile()\n",
      "        Return the profiling function set with sys.setprofile.\n",
      "\n",
      "        See the profiler chapter in the library manual.\n",
      "\n",
      "    getrecursionlimit()\n",
      "        Return the current value of the recursion limit.\n",
      "\n",
      "        The recursion limit is the maximum depth of the Python interpreter\n",
      "        stack.  This limit prevents infinite recursion from causing an overflow\n",
      "        of the C stack and crashing Python.\n",
      "\n",
      "    getrefcount(object, /)\n",
      "        Return the reference count of object.\n",
      "\n",
      "        The count returned is generally one higher than you might expect,\n",
      "        because it includes the (temporary) reference as an argument to\n",
      "        getrefcount().\n",
      "\n",
      "    getsizeof(...)\n",
      "        getsizeof(object [, default]) -> int\n",
      "\n",
      "        Return the size of object in bytes.\n",
      "\n",
      "    getswitchinterval()\n",
      "        Return the current thread switch interval; see sys.setswitchinterval().\n",
      "\n",
      "    gettrace()\n",
      "        Return the global debug tracing function set with sys.settrace.\n",
      "\n",
      "        See the debugger chapter in the library manual.\n",
      "\n",
      "    getunicodeinternedsize(*, _only_immortal=False)\n",
      "        Return the number of elements of the unicode interned dictionary\n",
      "\n",
      "    getwindowsversion()\n",
      "        Return info about the running version of Windows as a named tuple.\n",
      "\n",
      "        The members are named: major, minor, build, platform, service_pack,\n",
      "        service_pack_major, service_pack_minor, suite_mask, product_type and\n",
      "        platform_version. For backward compatibility, only the first 5 items\n",
      "        are available by indexing. All elements are numbers, except\n",
      "        service_pack and platform_type which are strings, and platform_version\n",
      "        which is a 3-tuple. Platform is always 2. Product_type may be 1 for a\n",
      "        workstation, 2 for a domain controller, 3 for a server.\n",
      "        Platform_version is a 3-tuple containing a version number that is\n",
      "        intended for identifying the OS rather than feature detection.\n",
      "\n",
      "    intern(string, /)\n",
      "        ``Intern'' the given string.\n",
      "\n",
      "        This enters the string in the (global) table of interned strings whose\n",
      "        purpose is to speed up dictionary lookups. Return the string itself or\n",
      "        the previously interned string object with the same value.\n",
      "\n",
      "    is_finalizing()\n",
      "        Return True if Python is exiting.\n",
      "\n",
      "    is_stack_trampoline_active()\n",
      "        Return *True* if a stack profiler trampoline is active.\n",
      "\n",
      "    set_asyncgen_hooks(...)\n",
      "        set_asyncgen_hooks([firstiter] [, finalizer])\n",
      "\n",
      "        Set a finalizer for async generators objects.\n",
      "\n",
      "    set_coroutine_origin_tracking_depth(depth)\n",
      "        Enable or disable origin tracking for coroutine objects in this thread.\n",
      "\n",
      "        Coroutine objects will track 'depth' frames of traceback information\n",
      "        about where they came from, available in their cr_origin attribute.\n",
      "\n",
      "        Set a depth of 0 to disable.\n",
      "\n",
      "    set_int_max_str_digits(maxdigits)\n",
      "        Set the maximum string digits limit for non-binary int<->str conversions.\n",
      "\n",
      "    setprofile(function, /)\n",
      "        Set the profiling function.\n",
      "\n",
      "        It will be called on each function call and return.  See the profiler\n",
      "        chapter in the library manual.\n",
      "\n",
      "    setrecursionlimit(limit, /)\n",
      "        Set the maximum depth of the Python interpreter stack to n.\n",
      "\n",
      "        This limit prevents infinite recursion from causing an overflow of the C\n",
      "        stack and crashing Python.  The highest possible limit is platform-\n",
      "        dependent.\n",
      "\n",
      "    setswitchinterval(interval, /)\n",
      "        Set the ideal thread switching delay inside the Python interpreter.\n",
      "\n",
      "        The actual frequency of switching threads can be lower if the\n",
      "        interpreter executes long sequences of uninterruptible code\n",
      "        (this is implementation-specific and workload-dependent).\n",
      "\n",
      "        The parameter must represent the desired switching delay in seconds\n",
      "        A typical value is 0.005 (5 milliseconds).\n",
      "\n",
      "    settrace(function, /)\n",
      "        Set the global debug tracing function.\n",
      "\n",
      "        It will be called on each function call.  See the debugger chapter\n",
      "        in the library manual.\n",
      "\n",
      "    unraisablehook(unraisable, /)\n",
      "        Handle an unraisable exception.\n",
      "\n",
      "        The unraisable argument has the following attributes:\n",
      "\n",
      "        * exc_type: Exception type.\n",
      "        * exc_value: Exception value, can be None.\n",
      "        * exc_traceback: Exception traceback, can be None.\n",
      "        * err_msg: Error message, can be None.\n",
      "        * object: Object causing the exception, can be None.\n",
      "\n",
      "DATA\n",
      "    __stderr__ = <_io.TextIOWrapper name='<stderr>' mode='w' encoding='cp1...\n",
      "    __stdin__ = <_io.TextIOWrapper name='<stdin>' mode='r' encoding='cp125...\n",
      "    __stdout__ = <_io.TextIOWrapper name='<stdout>' mode='w' encoding='cp1...\n",
      "    __warningregistry__ = {'version': 2}\n",
      "    api_version = 1013\n",
      "    argv = [r'C:\\Users\\Gorgo\\anaconda3\\Lib\\site-packages\\ipykernel_launche...\n",
      "    base_exec_prefix = r'C:\\Users\\Gorgo\\anaconda3'\n",
      "    base_prefix = r'C:\\Users\\Gorgo\\anaconda3'\n",
      "    builtin_module_names = ('_abc', '_ast', '_bisect', '_blake2', '_codecs...\n",
      "    byteorder = 'little'\n",
      "    copyright = 'Copyright (c) 2001-2024 Python Software Foundati...ematis...\n",
      "    displayhook = <ipykernel.displayhook.ZMQShellDisplayHook object>\n",
      "    dllhandle = 140721632903168\n",
      "    dont_write_bytecode = False\n",
      "    exec_prefix = r'C:\\Users\\Gorgo\\anaconda3'\n",
      "    executable = r'C:\\Users\\Gorgo\\anaconda3\\python.exe'\n",
      "    flags = sys.flags(debug=0, inspect=0, interactive=0, opt...ding=0, saf...\n",
      "    float_info = sys.float_info(max=1.7976931348623157e+308, max_...epsilo...\n",
      "    float_repr_style = 'short'\n",
      "    hash_info = sys.hash_info(width=64, modulus=2305843009213693...iphash1...\n",
      "    hexversion = 51185136\n",
      "    implementation = namespace(name='cpython', cache_tag='cpython-313...as...\n",
      "    int_info = sys.int_info(bits_per_digit=30, sizeof_digit=4, ..._str_dig...\n",
      "    last_value = IndexError('string index out of range')\n",
      "    maxsize = 9223372036854775807\n",
      "    maxunicode = 1114111\n",
      "    meta_path = [<_distutils_hack.DistutilsMetaFinder object>, <class '_fr...\n",
      "    modules = {'IPython': <module 'IPython' from 'C:\\\\Users\\\\Gorgo\\\\anacon...\n",
      "    orig_argv = [r'C:/Users/Gorgo/anaconda3\\python.exe', '-Xfrozen_modules...\n",
      "    path = [r'C:\\Users\\Gorgo\\anaconda3\\python313.zip', r'C:\\Users\\Gorgo\\an...\n",
      "    path_hooks = [<class 'zipimport.zipimporter'>, <function FileFinder.pa...\n",
      "    path_importer_cache = {r'C:\\Users\\Gorgo\\Desktop\\Data inżynier\\Logowani...\n",
      "    platform = 'win32'\n",
      "    platlibdir = 'DLLs'\n",
      "    prefix = r'C:\\Users\\Gorgo\\anaconda3'\n",
      "    ps1 = 'In : '\n",
      "    ps2 = '...: '\n",
      "    ps3 = 'Out: '\n",
      "    pycache_prefix = None\n",
      "    stderr = <ipykernel.iostream.OutStream object>\n",
      "    stdin = <_io.TextIOWrapper name='<stdin>' mode='r' encoding='cp1250'>\n",
      "    stdlib_module_names = frozenset({'__future__', '_abc', '_aix_support',...\n",
      "    stdout = <ipykernel.iostream.OutStream object>\n",
      "    thread_info = sys.thread_info(name='nt', lock=None, version=None)\n",
      "    version = '3.13.5 | packaged by Anaconda, Inc. | (main, Jun 12 2025, 1...\n",
      "    version_info = sys.version_info(major=3, minor=13, micro=5, releaselev...\n",
      "    warnoptions = []\n",
      "    winver = '3.13'\n",
      "\n",
      "FILE\n",
      "    (built-in)\n",
      "\n",
      "\n"
     ]
    }
   ],
   "source": [
    "help(sys)"
   ]
  },
  {
   "cell_type": "code",
   "execution_count": 91,
   "id": "a42781df",
   "metadata": {},
   "outputs": [
    {
     "data": {
      "text/plain": [
       "2.0"
      ]
     },
     "execution_count": 91,
     "metadata": {},
     "output_type": "execute_result"
    }
   ],
   "source": [
    "from math import sqrt\n",
    "sqrt(4)"
   ]
  },
  {
   "cell_type": "markdown",
   "id": "5108e8ce",
   "metadata": {},
   "source": [
    "### \"Pusta\" instrukcja"
   ]
  },
  {
   "cell_type": "code",
   "execution_count": 96,
   "id": "3139db12",
   "metadata": {},
   "outputs": [],
   "source": [
    "for i in range(1000):\n",
    "    #print(i)\n",
    "    pass"
   ]
  },
  {
   "cell_type": "markdown",
   "id": "65c98b86",
   "metadata": {},
   "source": [
    "### Usuwanie przypisania"
   ]
  },
  {
   "cell_type": "code",
   "execution_count": 97,
   "id": "4ab1630d",
   "metadata": {},
   "outputs": [
    {
     "name": "stdout",
     "output_type": "stream",
     "text": [
      "5\n"
     ]
    },
    {
     "ename": "NameError",
     "evalue": "name 'a' is not defined",
     "output_type": "error",
     "traceback": [
      "\u001b[1;31m---------------------------------------------------------------------------\u001b[0m",
      "\u001b[1;31mNameError\u001b[0m                                 Traceback (most recent call last)",
      "Cell \u001b[1;32mIn[97], line 4\u001b[0m\n\u001b[0;32m      2\u001b[0m \u001b[38;5;28mprint\u001b[39m(a)\n\u001b[0;32m      3\u001b[0m \u001b[38;5;28;01mdel\u001b[39;00m a\n\u001b[1;32m----> 4\u001b[0m \u001b[38;5;28mprint\u001b[39m(a)\n",
      "\u001b[1;31mNameError\u001b[0m: name 'a' is not defined"
     ]
    }
   ],
   "source": [
    "a = 5\n",
    "print(a)\n",
    "del a\n",
    "print(a)"
   ]
  },
  {
   "cell_type": "markdown",
   "id": "9e0ed1c6",
   "metadata": {},
   "source": [
    "## Wbudowane struktury danych: lista"
   ]
  },
  {
   "cell_type": "markdown",
   "id": "f70e2255",
   "metadata": {},
   "source": [
    "Utworzenie listy:"
   ]
  },
  {
   "cell_type": "code",
   "execution_count": 93,
   "id": "ac0f6293",
   "metadata": {},
   "outputs": [
    {
     "data": {
      "text/plain": [
       "[1, 2, 3, 4, 5, 6]"
      ]
     },
     "execution_count": 93,
     "metadata": {},
     "output_type": "execute_result"
    }
   ],
   "source": [
    "lista = [1,2,3,4,5,6]\n",
    "lista"
   ]
  },
  {
   "cell_type": "markdown",
   "id": "27c818e3",
   "metadata": {},
   "source": [
    "Długość (liczba elementów) listy:"
   ]
  },
  {
   "cell_type": "code",
   "execution_count": 98,
   "id": "1d062b22",
   "metadata": {},
   "outputs": [
    {
     "data": {
      "text/plain": [
       "6"
      ]
     },
     "execution_count": 98,
     "metadata": {},
     "output_type": "execute_result"
    }
   ],
   "source": [
    "len(lista)"
   ]
  },
  {
   "cell_type": "markdown",
   "id": "d0f5a14a",
   "metadata": {},
   "source": [
    "Zawieranie elementu - sprawdzenie za pomocą operatora **in**:"
   ]
  },
  {
   "cell_type": "code",
   "execution_count": 99,
   "id": "b125689c",
   "metadata": {},
   "outputs": [
    {
     "data": {
      "text/plain": [
       "True"
      ]
     },
     "execution_count": 99,
     "metadata": {},
     "output_type": "execute_result"
    }
   ],
   "source": [
    "3 in lista"
   ]
  },
  {
   "cell_type": "markdown",
   "id": "c371bd95",
   "metadata": {},
   "source": [
    "Dodanie elementu (na koniec) listy:"
   ]
  },
  {
   "cell_type": "code",
   "execution_count": null,
   "id": "1aa551b1",
   "metadata": {},
   "outputs": [],
   "source": [
    "lista.append(-5)\n",
    "lista"
   ]
  },
  {
   "cell_type": "markdown",
   "id": "d354e6fb",
   "metadata": {},
   "source": [
    "Konkatenacja list za pomocą operatora **+**:"
   ]
  },
  {
   "cell_type": "code",
   "execution_count": null,
   "id": "5702e4cc",
   "metadata": {},
   "outputs": [],
   "source": [
    "lista_B = [7,8]\n",
    "lista_C = lista + lista_B\n",
    "lista_C"
   ]
  },
  {
   "cell_type": "markdown",
   "id": "6cc7490c",
   "metadata": {},
   "source": [
    "Konkatenacja za pomocą metody **extend**:"
   ]
  },
  {
   "cell_type": "code",
   "execution_count": 102,
   "id": "76123f46",
   "metadata": {},
   "outputs": [
    {
     "data": {
      "text/plain": [
       "[1, 2, 3, 4, 5, -5, -5, -5, 6, 7]"
      ]
     },
     "execution_count": 102,
     "metadata": {},
     "output_type": "execute_result"
    }
   ],
   "source": [
    "lista = [1,2,3,4,5, -5,-5,-5]\n",
    "lista.extend([6,7])\n",
    "lista"
   ]
  },
  {
   "cell_type": "markdown",
   "id": "8fe6800b",
   "metadata": {},
   "source": [
    "Usuwanie zadanego elementu z listy:"
   ]
  },
  {
   "cell_type": "code",
   "execution_count": 104,
   "id": "f43bdb0f",
   "metadata": {},
   "outputs": [
    {
     "data": {
      "text/plain": [
       "[1, 2, 3, 4, 5, -5, -5, 6, 7]"
      ]
     },
     "execution_count": 104,
     "metadata": {},
     "output_type": "execute_result"
    }
   ],
   "source": [
    "lista.remove(-5)\n",
    "lista"
   ]
  },
  {
   "cell_type": "markdown",
   "id": "74dc113a",
   "metadata": {},
   "source": [
    "Wyciąganie elementów z listy za pomocą metody **pop()**:"
   ]
  },
  {
   "cell_type": "code",
   "execution_count": 105,
   "id": "5c28097d",
   "metadata": {},
   "outputs": [
    {
     "name": "stdout",
     "output_type": "stream",
     "text": [
      "EUR\n",
      "['PLN', 'USD']\n"
     ]
    }
   ],
   "source": [
    "lista = ['PLN', 'USD', 'EUR']\n",
    "a = lista.pop() # wyciąga ostatni element\n",
    "print(a)\n",
    "print(lista)"
   ]
  },
  {
   "cell_type": "code",
   "execution_count": 106,
   "id": "3903139c",
   "metadata": {},
   "outputs": [
    {
     "name": "stdout",
     "output_type": "stream",
     "text": [
      "EUR\n",
      "['USD']\n"
     ]
    }
   ],
   "source": [
    "lista.pop(0) # wyciąga element o indeksie 0\n",
    "print(a)\n",
    "print(lista)"
   ]
  },
  {
   "cell_type": "markdown",
   "id": "943aa189",
   "metadata": {},
   "source": [
    "Wstawianie za pomocą metody **insert**:"
   ]
  },
  {
   "cell_type": "code",
   "execution_count": 107,
   "id": "a3390915",
   "metadata": {},
   "outputs": [
    {
     "data": {
      "text/plain": [
       "[2, 4, 8, 16]"
      ]
     },
     "execution_count": 107,
     "metadata": {},
     "output_type": "execute_result"
    }
   ],
   "source": [
    "lista = [4, 8, 16]\n",
    "lista.insert(0,2) # wstaw na pozycję o indeksie 0\n",
    "lista"
   ]
  },
  {
   "cell_type": "code",
   "execution_count": 108,
   "id": "6f5e3c88",
   "metadata": {},
   "outputs": [
    {
     "data": {
      "text/plain": [
       "[2, 4, 8, 12, 16]"
      ]
     },
     "execution_count": 108,
     "metadata": {},
     "output_type": "execute_result"
    }
   ],
   "source": [
    "lista.insert(3,12) # wstaw na pozycję o indeksie 3\n",
    "lista"
   ]
  },
  {
   "cell_type": "markdown",
   "id": "0f9ecf47",
   "metadata": {},
   "source": [
    "Elementy listy indeksuje się w taki sam sposób, jak powyżej pokazane było dla ciągu znaków, tzn: `lista[początek:koniec:krok]`"
   ]
  },
  {
   "cell_type": "markdown",
   "id": "1c5595f0",
   "metadata": {},
   "source": [
    "## Wbudowane struktury danych: słownik"
   ]
  },
  {
   "cell_type": "markdown",
   "id": "373f0efb",
   "metadata": {},
   "source": [
    "Tworzenie słownika:"
   ]
  },
  {
   "cell_type": "code",
   "execution_count": 1,
   "id": "96d830cc",
   "metadata": {},
   "outputs": [],
   "source": [
    "slownik = {'imię':'Leon', 'numer':19999, 'miasto':'Wrocław'}"
   ]
  },
  {
   "cell_type": "markdown",
   "id": "79e459ff",
   "metadata": {},
   "source": [
    "Pobranie wartości na podstawie klucza:"
   ]
  },
  {
   "cell_type": "code",
   "execution_count": 5,
   "id": "6b790c52",
   "metadata": {},
   "outputs": [
    {
     "data": {
      "text/plain": [
       "'Grzegorz'"
      ]
     },
     "execution_count": 5,
     "metadata": {},
     "output_type": "execute_result"
    }
   ],
   "source": [
    "slownik['imię']"
   ]
  },
  {
   "cell_type": "code",
   "execution_count": 4,
   "id": "662619bd-d136-49a8-805f-109abe176960",
   "metadata": {},
   "outputs": [],
   "source": [
    "slownik['imię'] = \"Grzegorz\""
   ]
  },
  {
   "cell_type": "markdown",
   "id": "0cbbf943",
   "metadata": {},
   "source": [
    "Zmiana wartości:"
   ]
  },
  {
   "cell_type": "code",
   "execution_count": null,
   "id": "a43d2fcf",
   "metadata": {},
   "outputs": [],
   "source": [
    "slownik['imię'] = 'Bruno'\n",
    "slownik['imię']"
   ]
  },
  {
   "cell_type": "code",
   "execution_count": null,
   "id": "775f726a",
   "metadata": {},
   "outputs": [],
   "source": [
    "slownik['numer'] += 1\n",
    "slownik['numer']"
   ]
  },
  {
   "cell_type": "markdown",
   "id": "318c259a",
   "metadata": {},
   "source": [
    "Dodanie pary klucz-wartość:"
   ]
  },
  {
   "cell_type": "code",
   "execution_count": null,
   "id": "ab3080bb",
   "metadata": {},
   "outputs": [],
   "source": [
    "slownik['pensja'] = 10000\n",
    "slownik"
   ]
  },
  {
   "cell_type": "markdown",
   "id": "b5fec747",
   "metadata": {},
   "source": [
    "Iterowanie po zawartości słownika:"
   ]
  },
  {
   "cell_type": "code",
   "execution_count": null,
   "id": "3d2e07eb",
   "metadata": {},
   "outputs": [],
   "source": [
    "for klucz in slownik:\n",
    "    print(klucz)"
   ]
  },
  {
   "cell_type": "code",
   "execution_count": null,
   "id": "cdf023ff",
   "metadata": {},
   "outputs": [],
   "source": [
    "for klucz in slownik:\n",
    "    print(slownik[klucz])"
   ]
  },
  {
   "cell_type": "code",
   "execution_count": null,
   "id": "5e99237b",
   "metadata": {},
   "outputs": [],
   "source": [
    "for klucz in sorted(slownik):\n",
    "    print(klucz, ':', slownik[klucz])"
   ]
  },
  {
   "cell_type": "code",
   "execution_count": null,
   "id": "5bdf5fee",
   "metadata": {},
   "outputs": [],
   "source": [
    "for (klucz, wartosc) in slownik.items():\n",
    "    print(klucz, ':', wartosc)"
   ]
  },
  {
   "cell_type": "code",
   "execution_count": null,
   "id": "c0448512",
   "metadata": {},
   "outputs": [],
   "source": [
    "slownik['stan_konta'] += slownik['pensja']"
   ]
  },
  {
   "cell_type": "code",
   "execution_count": null,
   "id": "a87299b2",
   "metadata": {},
   "outputs": [],
   "source": [
    "if 'stan_konta' in slownik:\n",
    "    slownik['stan_konta'] += slownik['pensja']\n",
    "else:\n",
    "    slownik['stan_konta'] = slownik['pensja']\n",
    "slownik"
   ]
  },
  {
   "cell_type": "code",
   "execution_count": null,
   "id": "0b866ec7",
   "metadata": {},
   "outputs": [],
   "source": [
    "slownik.setdefault('stan_konta', 0)\n",
    "slownik['stan_konta'] += slownik['pensja']\n",
    "slownik"
   ]
  },
  {
   "cell_type": "markdown",
   "id": "9a8c6a7b",
   "metadata": {},
   "source": [
    "## Wbudowane struktury danych: zbiór"
   ]
  },
  {
   "cell_type": "code",
   "execution_count": null,
   "id": "48b3f20a",
   "metadata": {},
   "outputs": [],
   "source": [
    "zbior_A = {'a','b','c','c','a'}\n",
    "zbior_A"
   ]
  },
  {
   "cell_type": "code",
   "execution_count": null,
   "id": "dd5c9132",
   "metadata": {},
   "outputs": [],
   "source": [
    "zbior_B = set('bcde')\n",
    "zbior_B"
   ]
  },
  {
   "cell_type": "code",
   "execution_count": null,
   "id": "5cf29a36",
   "metadata": {},
   "outputs": [],
   "source": [
    "zbior_A.union(zbior_B)"
   ]
  },
  {
   "cell_type": "code",
   "execution_count": null,
   "id": "c22ac48c",
   "metadata": {},
   "outputs": [],
   "source": [
    "zbior_A.intersection(zbior_B)"
   ]
  },
  {
   "cell_type": "code",
   "execution_count": null,
   "id": "e129a7aa",
   "metadata": {},
   "outputs": [],
   "source": [
    "zbior_A.difference(zbior_B)"
   ]
  },
  {
   "cell_type": "code",
   "execution_count": null,
   "id": "c1117e73",
   "metadata": {},
   "outputs": [],
   "source": [
    "zbior_B.difference(zbior_A)"
   ]
  },
  {
   "cell_type": "markdown",
   "id": "93d2bd63",
   "metadata": {},
   "source": [
    "## Wbudowane struktury danych: krotka"
   ]
  },
  {
   "cell_type": "code",
   "execution_count": null,
   "id": "51d4db40",
   "metadata": {},
   "outputs": [],
   "source": [
    "lista = ['PLN', 'USD', 'EUR']\n",
    "krotka = ('PLN', 'USD', 'EUR')"
   ]
  },
  {
   "cell_type": "code",
   "execution_count": null,
   "id": "7a7366a9",
   "metadata": {},
   "outputs": [],
   "source": [
    "type(lista)"
   ]
  },
  {
   "cell_type": "code",
   "execution_count": null,
   "id": "bcc84bdc",
   "metadata": {},
   "outputs": [],
   "source": [
    "type(krotka)"
   ]
  },
  {
   "cell_type": "code",
   "execution_count": null,
   "id": "ecd9f54c",
   "metadata": {},
   "outputs": [],
   "source": [
    "lista[0:2]"
   ]
  },
  {
   "cell_type": "code",
   "execution_count": null,
   "id": "852ec54a",
   "metadata": {},
   "outputs": [],
   "source": [
    "krotka[0:2]"
   ]
  },
  {
   "cell_type": "code",
   "execution_count": null,
   "id": "287ef6cf",
   "metadata": {},
   "outputs": [],
   "source": [
    "lista[1] = 'GBP'"
   ]
  },
  {
   "cell_type": "code",
   "execution_count": null,
   "id": "e8b44397",
   "metadata": {},
   "outputs": [],
   "source": [
    "krotka[1] = 'GBP'"
   ]
  }
 ],
 "metadata": {
  "kernelspec": {
   "display_name": "Python [conda env:base] *",
   "language": "python",
   "name": "conda-base-py"
  },
  "language_info": {
   "codemirror_mode": {
    "name": "ipython",
    "version": 3
   },
   "file_extension": ".py",
   "mimetype": "text/x-python",
   "name": "python",
   "nbconvert_exporter": "python",
   "pygments_lexer": "ipython3",
   "version": "3.13.5"
  }
 },
 "nbformat": 4,
 "nbformat_minor": 5
}
